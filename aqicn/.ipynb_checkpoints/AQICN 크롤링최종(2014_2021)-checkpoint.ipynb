{
 "cells": [
  {
   "cell_type": "code",
   "execution_count": 1,
   "id": "05373aa4",
   "metadata": {
    "ExecuteTime": {
     "end_time": "2021-08-13T02:09:08.946226Z",
     "start_time": "2021-08-13T02:09:08.357803Z"
    },
    "slideshow": {
     "slide_type": "slide"
    }
   },
   "outputs": [],
   "source": [
    "from bs4 import BeautifulSoup\n",
    "from selenium import webdriver\n",
    "\n",
    "import pandas as pd\n",
    "import time"
   ]
  },
  {
   "cell_type": "markdown",
   "id": "39abde0d",
   "metadata": {
    "slideshow": {
     "slide_type": "slide"
    }
   },
   "source": [
    "# 날짜 생성"
   ]
  },
  {
   "cell_type": "code",
   "execution_count": 2,
   "id": "9855dc81",
   "metadata": {
    "ExecuteTime": {
     "end_time": "2021-08-13T02:09:09.429734Z",
     "start_time": "2021-08-13T02:09:09.394703Z"
    },
    "hide_input": false,
    "slideshow": {
     "slide_type": "slide"
    }
   },
   "outputs": [],
   "source": [
    "date = []\n",
    "\n",
    "for x in range(2014,2022) :\n",
    "    # 2021년 181일\n",
    "    if x == 2021 :\n",
    "        for y in range(1,7) :\n",
    "            \n",
    "            # 홀수 달 각 31일\n",
    "            if y == 1 or y == 3 or y == 5 :\n",
    "                y = str(y).zfill(2)\n",
    "                for z in range(1,32) :\n",
    "                    z = str(z).zfill(2)\n",
    "                    b = ('%s%s%s' %(x,y,z))\n",
    "                    date.append(b)\n",
    "            \n",
    "            # 짝수 달 각 30일\n",
    "            elif y == 4 or y == 6 :\n",
    "                y = str(y).zfill(2)\n",
    "                for z in range(1,31) :\n",
    "                    z = str(z).zfill(2)\n",
    "                    b = ('%s%s%s' %(x,y,z))\n",
    "                    date.append(b)\n",
    "           # 2월 28일 \n",
    "            else :\n",
    "                y = str(y).zfill(2)\n",
    "                for z in range(1,29) :\n",
    "                    z = str(z).zfill(2)\n",
    "                    b = ('%s%s%s' %(x,y,z))\n",
    "                    date.append(b)\n",
    "                    \n",
    "    # 2020년, 2016년 각 366일(윤달)            \n",
    "    elif x == 2020 or x == 2016 :\n",
    "        for y in range(1,13) :\n",
    "            if y == 1 or y == 3 or y == 5 or y == 7 or y == 8 or y == 10 or y == 12 :\n",
    "                y = str(y).zfill(2)\n",
    "                for z in range(1,32) :\n",
    "                    z = str(z).zfill(2)\n",
    "                    b = ('%s%s%s' %(x,y,z))\n",
    "                    date.append(b)\n",
    "                    \n",
    "            elif y == 4 or y == 6 or y == 9 or y == 11 :\n",
    "                y = str(y).zfill(2)\n",
    "                for z in range(1,31) :\n",
    "                    z = str(z).zfill(2)\n",
    "                    b = ('%s%s%s' %(x,y,z))\n",
    "                    date.append(b)\n",
    "            \n",
    "            else :\n",
    "                y = str(y).zfill(2)\n",
    "                for z in range(1,30) :\n",
    "                    z = str(z).zfill(2)\n",
    "                    b = ('%s%s%s' %(x,y,z))\n",
    "                    date.append(b)\n",
    "                    \n",
    "    # 2014, 2015, 2017, 2018, 2019 각 365일                \n",
    "    else :\n",
    "        for y in range(1,13) :\n",
    "            if y == 1 or y == 3 or y == 5 or y == 7 or y == 8 or y == 10 or y == 12 :\n",
    "                y = str(y).zfill(2)\n",
    "                for z in range(1,32) :\n",
    "                    z = str(z).zfill(2)\n",
    "                    b = ('%s%s%s' %(x,y,z))\n",
    "                    date.append(b)\n",
    "                    \n",
    "            elif y == 4 or y == 6 or y == 9 or y == 11 :\n",
    "                y = str(y).zfill(2)\n",
    "                for z in range(1,31) :\n",
    "                    z = str(z).zfill(2)\n",
    "                    b = ('%s%s%s' %(x,y,z))\n",
    "                    date.append(b)\n",
    "            \n",
    "            else :\n",
    "                y = str(y).zfill(2)\n",
    "                for z in range(1,29) :\n",
    "                    z = str(z).zfill(2)\n",
    "                    b = ('%s%s%s' %(x,y,z))\n",
    "                    date.append(b)\n",
    "                \n",
    "# 저장될 파일 경로 설정                    \n",
    "fc_name_2 = r'C:\\Users\\jangb\\OneDrive\\바탕 화면\\aqicn\\pm10.csv'\n",
    "\n",
    "particular_material = pd.DataFrame()\n",
    "particular_material['date'] = date\n",
    "particular_material.to_csv(fc_name_2, index = False, encoding = 'UTF-8-sig')"
   ]
  },
  {
   "cell_type": "markdown",
   "id": "66bc328d",
   "metadata": {
    "slideshow": {
     "slide_type": "slide"
    }
   },
   "source": [
    "# 월별 sorting"
   ]
  },
  {
   "cell_type": "code",
   "execution_count": 3,
   "id": "aac2259b",
   "metadata": {
    "ExecuteTime": {
     "end_time": "2021-08-13T02:09:11.387753Z",
     "start_time": "2021-08-13T02:09:11.357835Z"
    },
    "slideshow": {
     "slide_type": "slide"
    }
   },
   "outputs": [],
   "source": [
    "def sorting(value4):\n",
    "    a90 = value4[0:30] # 202106\n",
    "    a89 = value4[30:61] #202105\n",
    "    a88 = value4[61:91] #202104\n",
    "    a87 = value4[91:122] #202103\n",
    "    a86 = value4[122:150] #202102\n",
    "    a85 = value4[150:181] #202101\n",
    "    a84 = value4[181:212] #202012\n",
    "    a83 = value4[212:242] #202011\n",
    "    a82 = value4[242:273] #202010\n",
    "    a81 = value4[273:303] #202009\n",
    "    a80 = value4[303:334] #202008\n",
    "    a79 = value4[334:365] #202007\n",
    "    a78 = value4[365:395] #202006\n",
    "    a77 = value4[395:426] #202005\n",
    "    a76 = value4[426:456] #202004\n",
    "    a75 = value4[456:487] #202003\n",
    "    a74 = value4[487:516] #202002\n",
    "    a73 = value4[516:547] #202001\n",
    "    a72 = value4[547:578] #201912\n",
    "    a71 = value4[578:608] #201911\n",
    "    a70 = value4[608:639] #201910\n",
    "    a69 = value4[639:669] #201909\n",
    "    a68 = value4[669:700] #201908\n",
    "    a67 = value4[700:731] #201907\n",
    "    a66 = value4[731:761] #201906\n",
    "    a65 = value4[761:792] #201905\n",
    "    a64 = value4[792:822] #201904\n",
    "    a63 = value4[822:853] #201903\n",
    "    a62 = value4[853:881] #201902\n",
    "    a61 = value4[881:912] #201901\n",
    "    a60 = value4[912:943] #201812\n",
    "    a59 = value4[943:973] #201811\n",
    "    a58 = value4[973:1004] #201810\n",
    "    a57 = value4[1004:1034] #201809\n",
    "    a56 = value4[1034:1065] #201808\n",
    "    a55 = value4[1065:1096] #201807\n",
    "    a54 = value4[1096:1126] #201806\n",
    "    a53 = value4[1126:1157] #201805\n",
    "    a52 = value4[1157:1187] #201804\n",
    "    a51 = value4[1187:1218] #201803\n",
    "    a50 = value4[1218:1246] #201802\n",
    "    a49 = value4[1246:1277] #201801\n",
    "    a48 = value4[1277:1308] #201712\n",
    "    a47 = value4[1308:1338] #201711\n",
    "    a46 = value4[1338:1369] #201710\n",
    "    a45 = value4[1369:1399] #201709\n",
    "    a44 = value4[1399:1430] #201708\n",
    "    a43 = value4[1430:1461] #201707\n",
    "    a42 = value4[1461:1491] #201706\n",
    "    a41 = value4[1491:1522] #201705\n",
    "    a40 = value4[1522:1552] #201704\n",
    "    a39 = value4[1552:1583] #201703\n",
    "    a38 = value4[1583:1611] #201702\n",
    "    a37 = value4[1611:1642] #201701\n",
    "    a36 = value4[1642:1673] #201612\n",
    "    a35 = value4[1673:1703] #201611\n",
    "    a34 = value4[1703:1734] #201610\n",
    "    a33 = value4[1734:1764] #201609\n",
    "    a32 = value4[1764:1795] #201608\n",
    "    a31 = value4[1795:1826] #201607\n",
    "    a30 = value4[1826:1856] #201606\n",
    "    a29 = value4[1856:1887] #201605\n",
    "    a28 = value4[1887:1917] #201604\n",
    "    a27 = value4[1917:1948] #201603\n",
    "    a26 = value4[1948:1977] #201602\n",
    "    a25 = value4[1977:2008] #201601\n",
    "    a24 = value4[2008:2039] #201512\n",
    "    a23 = value4[2039:2069] #201511\n",
    "    a22 = value4[2069:2100] #201510\n",
    "    a21 = value4[2100:2130] #201509\n",
    "    a20 = value4[2130:2161] #201508\n",
    "    a19 = value4[2161:2192] #201507\n",
    "    a18 = value4[2192:2222] #201506\n",
    "    a17 = value4[2222:2253] #201505\n",
    "    a16 = value4[2253:2283] #201504\n",
    "    a15 = value4[2283:2314] #201503\n",
    "    a14 = value4[2314:2342] #201502\n",
    "    a13 = value4[2342:2373] #201501\n",
    "    a12 = value4[2373:2404] #201412\n",
    "    a11 = value4[2404:2434] #201411\n",
    "    a10 = value4[2434:2465] #201410\n",
    "    a9 = value4[2465:2495] #201409\n",
    "    a8 = value4[2495:2526] #201408\n",
    "    a7 = value4[2526:2557] #201407\n",
    "    a6 = value4[2557:2587] #201406\n",
    "    a5 = value4[2587:2618] #201405\n",
    "    a4 = value4[2618:2648] #201404\n",
    "    a3 = value4[2648:2679] #201403\n",
    "    a2 = value4[2679:2707] #201402\n",
    "    a1 = value4[2707:2738] #201401\n",
    "\n",
    "    for x in range(1,91) :\n",
    "        for i in range(0,32) :\n",
    "            try :\n",
    "                # 전역변수 호출\n",
    "                a = eval('a' + str(x) + str([i]))\n",
    "                value1.append(a)\n",
    "            except :\n",
    "                pass"
   ]
  },
  {
   "cell_type": "markdown",
   "id": "45f74f08",
   "metadata": {
    "slideshow": {
     "slide_type": "slide"
    }
   },
   "source": [
    "# 크롤링"
   ]
  },
  {
   "cell_type": "code",
   "execution_count": 4,
   "id": "f383636b",
   "metadata": {
    "ExecuteTime": {
     "end_time": "2021-08-13T02:14:39.986391Z",
     "start_time": "2021-08-13T02:09:20.671685Z"
    },
    "scrolled": true,
    "slideshow": {
     "slide_type": "slide"
    }
   },
   "outputs": [
    {
     "ename": "ValueError",
     "evalue": "Length of values (1157) does not match length of index (2738)",
     "output_type": "error",
     "traceback": [
      "\u001b[1;31m---------------------------------------------------------------------------\u001b[0m",
      "\u001b[1;31mValueError\u001b[0m                                Traceback (most recent call last)",
      "\u001b[1;32m<ipython-input-4-b777445c35e1>\u001b[0m in \u001b[0;36m<module>\u001b[1;34m\u001b[0m\n\u001b[0;32m     52\u001b[0m \u001b[1;31m# 2.5 미세먼지 파일경로 설정\u001b[0m\u001b[1;33m\u001b[0m\u001b[1;33m\u001b[0m\u001b[1;33m\u001b[0m\u001b[0m\n\u001b[0;32m     53\u001b[0m \u001b[0mparticulate_matter\u001b[0m \u001b[1;33m=\u001b[0m \u001b[0mpd\u001b[0m\u001b[1;33m.\u001b[0m\u001b[0mread_csv\u001b[0m\u001b[1;33m(\u001b[0m\u001b[1;34mr'C:\\Users\\jangb\\OneDrive\\바탕 화면\\aqicn\\pm10.csv'\u001b[0m\u001b[1;33m)\u001b[0m\u001b[1;33m\u001b[0m\u001b[1;33m\u001b[0m\u001b[0m\n\u001b[1;32m---> 54\u001b[1;33m \u001b[0mparticulate_matter\u001b[0m\u001b[1;33m[\u001b[0m\u001b[1;34m'%s'\u001b[0m \u001b[1;33m%\u001b[0m \u001b[0mtitle\u001b[0m\u001b[1;33m]\u001b[0m \u001b[1;33m=\u001b[0m \u001b[0mvalue1\u001b[0m\u001b[1;33m\u001b[0m\u001b[1;33m\u001b[0m\u001b[0m\n\u001b[0m\u001b[0;32m     55\u001b[0m \u001b[0mparticulate_matter\u001b[0m\u001b[1;33m.\u001b[0m\u001b[0mto_csv\u001b[0m\u001b[1;33m(\u001b[0m\u001b[0mfc_name_2\u001b[0m\u001b[1;33m,\u001b[0m \u001b[0mindex\u001b[0m \u001b[1;33m=\u001b[0m \u001b[1;32mFalse\u001b[0m\u001b[1;33m,\u001b[0m \u001b[0mencoding\u001b[0m \u001b[1;33m=\u001b[0m \u001b[1;34m'UTF-8-sig'\u001b[0m\u001b[1;33m)\u001b[0m\u001b[1;33m\u001b[0m\u001b[1;33m\u001b[0m\u001b[0m\n",
      "\u001b[1;32mc:\\users\\jangb\\appdata\\local\\programs\\python\\python38\\lib\\site-packages\\pandas\\core\\frame.py\u001b[0m in \u001b[0;36m__setitem__\u001b[1;34m(self, key, value)\u001b[0m\n\u001b[0;32m   3161\u001b[0m         \u001b[1;32melse\u001b[0m\u001b[1;33m:\u001b[0m\u001b[1;33m\u001b[0m\u001b[1;33m\u001b[0m\u001b[0m\n\u001b[0;32m   3162\u001b[0m             \u001b[1;31m# set column\u001b[0m\u001b[1;33m\u001b[0m\u001b[1;33m\u001b[0m\u001b[1;33m\u001b[0m\u001b[0m\n\u001b[1;32m-> 3163\u001b[1;33m             \u001b[0mself\u001b[0m\u001b[1;33m.\u001b[0m\u001b[0m_set_item\u001b[0m\u001b[1;33m(\u001b[0m\u001b[0mkey\u001b[0m\u001b[1;33m,\u001b[0m \u001b[0mvalue\u001b[0m\u001b[1;33m)\u001b[0m\u001b[1;33m\u001b[0m\u001b[1;33m\u001b[0m\u001b[0m\n\u001b[0m\u001b[0;32m   3164\u001b[0m \u001b[1;33m\u001b[0m\u001b[0m\n\u001b[0;32m   3165\u001b[0m     \u001b[1;32mdef\u001b[0m \u001b[0m_setitem_slice\u001b[0m\u001b[1;33m(\u001b[0m\u001b[0mself\u001b[0m\u001b[1;33m,\u001b[0m \u001b[0mkey\u001b[0m\u001b[1;33m:\u001b[0m \u001b[0mslice\u001b[0m\u001b[1;33m,\u001b[0m \u001b[0mvalue\u001b[0m\u001b[1;33m)\u001b[0m\u001b[1;33m:\u001b[0m\u001b[1;33m\u001b[0m\u001b[1;33m\u001b[0m\u001b[0m\n",
      "\u001b[1;32mc:\\users\\jangb\\appdata\\local\\programs\\python\\python38\\lib\\site-packages\\pandas\\core\\frame.py\u001b[0m in \u001b[0;36m_set_item\u001b[1;34m(self, key, value)\u001b[0m\n\u001b[0;32m   3240\u001b[0m         \"\"\"\n\u001b[0;32m   3241\u001b[0m         \u001b[0mself\u001b[0m\u001b[1;33m.\u001b[0m\u001b[0m_ensure_valid_index\u001b[0m\u001b[1;33m(\u001b[0m\u001b[0mvalue\u001b[0m\u001b[1;33m)\u001b[0m\u001b[1;33m\u001b[0m\u001b[1;33m\u001b[0m\u001b[0m\n\u001b[1;32m-> 3242\u001b[1;33m         \u001b[0mvalue\u001b[0m \u001b[1;33m=\u001b[0m \u001b[0mself\u001b[0m\u001b[1;33m.\u001b[0m\u001b[0m_sanitize_column\u001b[0m\u001b[1;33m(\u001b[0m\u001b[0mkey\u001b[0m\u001b[1;33m,\u001b[0m \u001b[0mvalue\u001b[0m\u001b[1;33m)\u001b[0m\u001b[1;33m\u001b[0m\u001b[1;33m\u001b[0m\u001b[0m\n\u001b[0m\u001b[0;32m   3243\u001b[0m         \u001b[0mNDFrame\u001b[0m\u001b[1;33m.\u001b[0m\u001b[0m_set_item\u001b[0m\u001b[1;33m(\u001b[0m\u001b[0mself\u001b[0m\u001b[1;33m,\u001b[0m \u001b[0mkey\u001b[0m\u001b[1;33m,\u001b[0m \u001b[0mvalue\u001b[0m\u001b[1;33m)\u001b[0m\u001b[1;33m\u001b[0m\u001b[1;33m\u001b[0m\u001b[0m\n\u001b[0;32m   3244\u001b[0m \u001b[1;33m\u001b[0m\u001b[0m\n",
      "\u001b[1;32mc:\\users\\jangb\\appdata\\local\\programs\\python\\python38\\lib\\site-packages\\pandas\\core\\frame.py\u001b[0m in \u001b[0;36m_sanitize_column\u001b[1;34m(self, key, value, broadcast)\u001b[0m\n\u001b[0;32m   3897\u001b[0m \u001b[1;33m\u001b[0m\u001b[0m\n\u001b[0;32m   3898\u001b[0m             \u001b[1;31m# turn me into an ndarray\u001b[0m\u001b[1;33m\u001b[0m\u001b[1;33m\u001b[0m\u001b[1;33m\u001b[0m\u001b[0m\n\u001b[1;32m-> 3899\u001b[1;33m             \u001b[0mvalue\u001b[0m \u001b[1;33m=\u001b[0m \u001b[0msanitize_index\u001b[0m\u001b[1;33m(\u001b[0m\u001b[0mvalue\u001b[0m\u001b[1;33m,\u001b[0m \u001b[0mself\u001b[0m\u001b[1;33m.\u001b[0m\u001b[0mindex\u001b[0m\u001b[1;33m)\u001b[0m\u001b[1;33m\u001b[0m\u001b[1;33m\u001b[0m\u001b[0m\n\u001b[0m\u001b[0;32m   3900\u001b[0m             \u001b[1;32mif\u001b[0m \u001b[1;32mnot\u001b[0m \u001b[0misinstance\u001b[0m\u001b[1;33m(\u001b[0m\u001b[0mvalue\u001b[0m\u001b[1;33m,\u001b[0m \u001b[1;33m(\u001b[0m\u001b[0mnp\u001b[0m\u001b[1;33m.\u001b[0m\u001b[0mndarray\u001b[0m\u001b[1;33m,\u001b[0m \u001b[0mIndex\u001b[0m\u001b[1;33m)\u001b[0m\u001b[1;33m)\u001b[0m\u001b[1;33m:\u001b[0m\u001b[1;33m\u001b[0m\u001b[1;33m\u001b[0m\u001b[0m\n\u001b[0;32m   3901\u001b[0m                 \u001b[1;32mif\u001b[0m \u001b[0misinstance\u001b[0m\u001b[1;33m(\u001b[0m\u001b[0mvalue\u001b[0m\u001b[1;33m,\u001b[0m \u001b[0mlist\u001b[0m\u001b[1;33m)\u001b[0m \u001b[1;32mand\u001b[0m \u001b[0mlen\u001b[0m\u001b[1;33m(\u001b[0m\u001b[0mvalue\u001b[0m\u001b[1;33m)\u001b[0m \u001b[1;33m>\u001b[0m \u001b[1;36m0\u001b[0m\u001b[1;33m:\u001b[0m\u001b[1;33m\u001b[0m\u001b[1;33m\u001b[0m\u001b[0m\n",
      "\u001b[1;32mc:\\users\\jangb\\appdata\\local\\programs\\python\\python38\\lib\\site-packages\\pandas\\core\\internals\\construction.py\u001b[0m in \u001b[0;36msanitize_index\u001b[1;34m(data, index)\u001b[0m\n\u001b[0;32m    749\u001b[0m     \"\"\"\n\u001b[0;32m    750\u001b[0m     \u001b[1;32mif\u001b[0m \u001b[0mlen\u001b[0m\u001b[1;33m(\u001b[0m\u001b[0mdata\u001b[0m\u001b[1;33m)\u001b[0m \u001b[1;33m!=\u001b[0m \u001b[0mlen\u001b[0m\u001b[1;33m(\u001b[0m\u001b[0mindex\u001b[0m\u001b[1;33m)\u001b[0m\u001b[1;33m:\u001b[0m\u001b[1;33m\u001b[0m\u001b[1;33m\u001b[0m\u001b[0m\n\u001b[1;32m--> 751\u001b[1;33m         raise ValueError(\n\u001b[0m\u001b[0;32m    752\u001b[0m             \u001b[1;34m\"Length of values \"\u001b[0m\u001b[1;33m\u001b[0m\u001b[1;33m\u001b[0m\u001b[0m\n\u001b[0;32m    753\u001b[0m             \u001b[1;34mf\"({len(data)}) \"\u001b[0m\u001b[1;33m\u001b[0m\u001b[1;33m\u001b[0m\u001b[0m\n",
      "\u001b[1;31mValueError\u001b[0m: Length of values (1157) does not match length of index (2738)"
     ]
    }
   ],
   "source": [
    "# 날짜 생성한 csv파일 경로 \n",
    "fc_name_2 = r'C:\\Users\\jangb\\OneDrive\\바탕 화면\\aqicn\\pm10.csv'\n",
    "\n",
    "path = r'C:\\Users\\jangb\\OneDrive\\바탕 화면\\aqicn\\chromedriver.exe'\n",
    "driver = webdriver.Chrome(path)\n",
    "\n",
    "# 크롤링 할 페이지 주소 (원하는 도시 이름 입력)\n",
    "driver.get('https://aqicn.org/city/tianjin/')\n",
    "time.sleep(3)\n",
    "\n",
    "html = driver.page_source\n",
    "soup = BeautifulSoup(html, 'html.parser')\n",
    "time.sleep(3)\n",
    "\n",
    "# pm 10.0 클릭\n",
    "driver.find_element_by_xpath('/html/body/div[13]/div[2]/center/div/div/div/div[2]/center/ul/li[2]').click()\n",
    "\n",
    "# Air quality historical data 부분 지정\n",
    "data_list = soup.find('div', class_ = 'historical-yearly-data')\n",
    "\n",
    "# csv파일에 지정될 도시 이름 지정\n",
    "header = soup.select('div.h1section > h1 > div > b')\n",
    "\n",
    "time.sleep(500)\n",
    "# 크롤링 할 지역명 -> 컬럼명\n",
    "for i in header :\n",
    "    title = i.get_text()\n",
    "\n",
    "time.sleep(3)\n",
    "\n",
    "# 미세먼지 데이터 추출 -> value리스트에 저장\n",
    "value1 = []\n",
    "value2 = []\n",
    "value3 = []\n",
    "\n",
    "# Air quality historical data중 Days of the month의 값 value5에 저장\n",
    "value5 = data_list.select('td.squares > svg > text')\n",
    "\n",
    "# value5의 값 중 text(미세먼지 수치) value2에 저장 후 value3에 추가\n",
    "for i in value5 :\n",
    "    value2 = i.get_text()\n",
    "    value3.append(value2)\n",
    "\n",
    "# 전체 데이터 중 6월 31일 이전 데이터만 value4에 저장     \n",
    "value4 = value3[184:]\n",
    "\n",
    "# 앞서 만들었던 내장함수로 value4의 데이터 각 월별 저장\n",
    "sorting(value4)\n",
    "\n",
    "driver.close()\n",
    "\n",
    "# 2.5 미세먼지 파일경로 설정\n",
    "particulate_matter = pd.read_csv(r'C:\\Users\\jangb\\OneDrive\\바탕 화면\\aqicn\\pm10.csv')\n",
    "particulate_matter['%s' % title] = value1\n",
    "particulate_matter.to_csv(fc_name_2, index = False, encoding = 'UTF-8-sig')"
   ]
  },
  {
   "cell_type": "code",
   "execution_count": null,
   "id": "af03879a",
   "metadata": {},
   "outputs": [],
   "source": []
  },
  {
   "cell_type": "code",
   "execution_count": null,
   "id": "16d3b436",
   "metadata": {},
   "outputs": [],
   "source": []
  }
 ],
 "metadata": {
  "hide_input": false,
  "kernelspec": {
   "display_name": "Python 3",
   "language": "python",
   "name": "python3"
  },
  "language_info": {
   "codemirror_mode": {
    "name": "ipython",
    "version": 3
   },
   "file_extension": ".py",
   "mimetype": "text/x-python",
   "name": "python",
   "nbconvert_exporter": "python",
   "pygments_lexer": "ipython3",
   "version": "3.8.9"
  },
  "toc": {
   "base_numbering": 1,
   "nav_menu": {},
   "number_sections": true,
   "sideBar": true,
   "skip_h1_title": false,
   "title_cell": "Table of Contents",
   "title_sidebar": "Contents",
   "toc_cell": false,
   "toc_position": {},
   "toc_section_display": true,
   "toc_window_display": false
  },
  "varInspector": {
   "cols": {
    "lenName": 16,
    "lenType": 16,
    "lenVar": 40
   },
   "kernels_config": {
    "python": {
     "delete_cmd_postfix": "",
     "delete_cmd_prefix": "del ",
     "library": "var_list.py",
     "varRefreshCmd": "print(var_dic_list())"
    },
    "r": {
     "delete_cmd_postfix": ") ",
     "delete_cmd_prefix": "rm(",
     "library": "var_list.r",
     "varRefreshCmd": "cat(var_dic_list()) "
    }
   },
   "types_to_exclude": [
    "module",
    "function",
    "builtin_function_or_method",
    "instance",
    "_Feature"
   ],
   "window_display": false
  }
 },
 "nbformat": 4,
 "nbformat_minor": 5
}
