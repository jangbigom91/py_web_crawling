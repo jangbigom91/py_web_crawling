{
 "cells": [
  {
   "cell_type": "markdown",
   "id": "d765564f",
   "metadata": {},
   "source": [
    "## 색맹테스트 봇\n",
    "* http://zzzscore.com/color/"
   ]
  },
  {
   "cell_type": "markdown",
   "id": "2b7bf764",
   "metadata": {},
   "source": [
    "* 웹 페이지 코드 분석\n",
    "\n",
    "* 버튼이 4->9->16->... 이런식으로 늘어남\n",
    "\n",
    "\n",
    "* (1,1) 위치 div의 xpath : //*[@id=\"grid\"]/div[1]\n",
    "* (1,2) 위치 div의 xpath : //*[@id=\"grid\"]/div[2]\n",
    "* (2,1) 위치 div의 xpath : //*[@id=\"grid\"]/div[3]\n",
    "\n",
    "\n",
    "* 이런식이지만 div[*] 쓰려면 내부요소가 있는 경우에만 탐색 가능\n",
    "\n",
    "\n",
    "* 이번에는 div와div 태그 사이에 아무런 요소가 없다. 이런 경우에는 //*[@id=\"grid\"]/div 이런식으로 탐색 "
   ]
  },
  {
   "cell_type": "code",
   "execution_count": 1,
   "id": "9f82d263",
   "metadata": {
    "ExecuteTime": {
     "end_time": "2021-06-08T02:37:47.183579Z",
     "start_time": "2021-06-08T02:37:42.725406Z"
    }
   },
   "outputs": [
    {
     "name": "stdout",
     "output_type": "stream",
     "text": [
      "230\n"
     ]
    }
   ],
   "source": [
    "from selenium import webdriver\n",
    "from pprint import pprint\n",
    "import time\n",
    "\n",
    "driver = webdriver.Chrome(\"chromedriver\")\n",
    "driver.get('http://zzzscore.com/color')\n",
    "driver.implicitly_wait(300)\n",
    "\n",
    "btns = driver.find_elements_by_xpath('//*[@id=\"grid\"]/div')\n",
    "print(len(btns))"
   ]
  },
  {
   "cell_type": "markdown",
   "id": "db78aebd",
   "metadata": {},
   "source": [
    "* 정답 탐색하기\n",
    "\n",
    "\n",
    "* 1. 각 div의 rgba값 추출\n",
    "* 2. 추출한 rgba 중 값 하나 다른곳이 정답"
   ]
  },
  {
   "cell_type": "markdown",
   "id": "9121152e",
   "metadata": {},
   "source": [
    "* 디자인 정보(css) 추출\n",
    "\n",
    "\n",
    "* selenium에서 추출한 요소는 value_of_css_property로 해당 요소의 css속성을 확인할 수 있습니다. css란 html 요소의 디자인 속성 정보입니다.\n",
    "\n",
    "\n",
    "* 모든 버튼에 대해 배경색상 정보를 추출하여 리스트에 저장\n"
   ]
  },
  {
   "cell_type": "code",
   "execution_count": 2,
   "id": "c967f491",
   "metadata": {
    "ExecuteTime": {
     "end_time": "2021-06-08T02:40:54.933117Z",
     "start_time": "2021-06-08T02:40:53.474126Z"
    }
   },
   "outputs": [
    {
     "name": "stdout",
     "output_type": "stream",
     "text": [
      "['rgba(163, 180, 195, 1)',\n",
      " 'rgba(163, 180, 195, 1)',\n",
      " 'rgba(130, 147, 228, 1)',\n",
      " 'rgba(163, 180, 195, 1)',\n",
      " 'rgba(255, 0, 0, 1)',\n",
      " 'rgba(255, 0, 0, 1)',\n",
      " 'rgba(255, 0, 0, 1)',\n",
      " 'rgba(255, 0, 0, 1)',\n",
      " 'rgba(255, 0, 0, 1)',\n",
      " 'rgba(255, 0, 0, 1)',\n",
      " 'rgba(255, 0, 0, 1)',\n",
      " 'rgba(255, 0, 0, 1)',\n",
      " 'rgba(255, 0, 0, 1)',\n",
      " 'rgba(255, 0, 0, 1)',\n",
      " 'rgba(255, 0, 0, 1)',\n",
      " 'rgba(255, 0, 0, 1)',\n",
      " 'rgba(255, 0, 0, 1)',\n",
      " 'rgba(255, 0, 0, 1)',\n",
      " 'rgba(255, 0, 0, 1)',\n",
      " 'rgba(255, 0, 0, 1)',\n",
      " 'rgba(255, 0, 0, 1)',\n",
      " 'rgba(255, 0, 0, 1)',\n",
      " 'rgba(255, 0, 0, 1)',\n",
      " 'rgba(255, 0, 0, 1)',\n",
      " 'rgba(255, 0, 0, 1)',\n",
      " 'rgba(255, 0, 0, 1)',\n",
      " 'rgba(255, 0, 0, 1)',\n",
      " 'rgba(255, 0, 0, 1)',\n",
      " 'rgba(255, 0, 0, 1)',\n",
      " 'rgba(255, 0, 0, 1)',\n",
      " 'rgba(255, 0, 0, 1)',\n",
      " 'rgba(255, 0, 0, 1)',\n",
      " 'rgba(255, 0, 0, 1)',\n",
      " 'rgba(255, 0, 0, 1)',\n",
      " 'rgba(255, 0, 0, 1)',\n",
      " 'rgba(255, 0, 0, 1)',\n",
      " 'rgba(255, 0, 0, 1)',\n",
      " 'rgba(255, 0, 0, 1)',\n",
      " 'rgba(255, 0, 0, 1)',\n",
      " 'rgba(255, 0, 0, 1)',\n",
      " 'rgba(255, 0, 0, 1)',\n",
      " 'rgba(255, 0, 0, 1)',\n",
      " 'rgba(255, 0, 0, 1)',\n",
      " 'rgba(255, 0, 0, 1)',\n",
      " 'rgba(255, 0, 0, 1)',\n",
      " 'rgba(255, 0, 0, 1)',\n",
      " 'rgba(255, 0, 0, 1)',\n",
      " 'rgba(255, 0, 0, 1)',\n",
      " 'rgba(255, 0, 0, 1)',\n",
      " 'rgba(255, 0, 0, 1)',\n",
      " 'rgba(255, 0, 0, 1)',\n",
      " 'rgba(255, 0, 0, 1)',\n",
      " 'rgba(255, 0, 0, 1)',\n",
      " 'rgba(255, 0, 0, 1)',\n",
      " 'rgba(255, 0, 0, 1)',\n",
      " 'rgba(255, 0, 0, 1)',\n",
      " 'rgba(255, 0, 0, 1)',\n",
      " 'rgba(255, 0, 0, 1)',\n",
      " 'rgba(255, 0, 0, 1)',\n",
      " 'rgba(255, 0, 0, 1)',\n",
      " 'rgba(255, 0, 0, 1)',\n",
      " 'rgba(255, 0, 0, 1)',\n",
      " 'rgba(255, 0, 0, 1)',\n",
      " 'rgba(255, 0, 0, 1)',\n",
      " 'rgba(255, 0, 0, 1)',\n",
      " 'rgba(255, 0, 0, 1)',\n",
      " 'rgba(255, 0, 0, 1)',\n",
      " 'rgba(255, 0, 0, 1)',\n",
      " 'rgba(255, 0, 0, 1)',\n",
      " 'rgba(255, 0, 0, 1)',\n",
      " 'rgba(255, 0, 0, 1)',\n",
      " 'rgba(255, 0, 0, 1)',\n",
      " 'rgba(255, 0, 0, 1)',\n",
      " 'rgba(255, 0, 0, 1)',\n",
      " 'rgba(255, 0, 0, 1)',\n",
      " 'rgba(255, 0, 0, 1)',\n",
      " 'rgba(255, 0, 0, 1)',\n",
      " 'rgba(255, 0, 0, 1)',\n",
      " 'rgba(255, 0, 0, 1)',\n",
      " 'rgba(255, 0, 0, 1)',\n",
      " 'rgba(255, 0, 0, 1)',\n",
      " 'rgba(255, 0, 0, 1)',\n",
      " 'rgba(255, 0, 0, 1)',\n",
      " 'rgba(255, 0, 0, 1)',\n",
      " 'rgba(255, 0, 0, 1)',\n",
      " 'rgba(255, 0, 0, 1)',\n",
      " 'rgba(255, 0, 0, 1)',\n",
      " 'rgba(255, 0, 0, 1)',\n",
      " 'rgba(255, 0, 0, 1)',\n",
      " 'rgba(255, 0, 0, 1)',\n",
      " 'rgba(255, 0, 0, 1)',\n",
      " 'rgba(255, 0, 0, 1)',\n",
      " 'rgba(255, 0, 0, 1)',\n",
      " 'rgba(255, 0, 0, 1)',\n",
      " 'rgba(255, 0, 0, 1)',\n",
      " 'rgba(255, 0, 0, 1)',\n",
      " 'rgba(255, 0, 0, 1)',\n",
      " 'rgba(255, 0, 0, 1)',\n",
      " 'rgba(255, 0, 0, 1)',\n",
      " 'rgba(255, 0, 0, 1)',\n",
      " 'rgba(255, 0, 0, 1)',\n",
      " 'rgba(255, 0, 0, 1)',\n",
      " 'rgba(255, 0, 0, 1)',\n",
      " 'rgba(255, 0, 0, 1)',\n",
      " 'rgba(255, 0, 0, 1)',\n",
      " 'rgba(255, 0, 0, 1)',\n",
      " 'rgba(255, 0, 0, 1)',\n",
      " 'rgba(255, 0, 0, 1)',\n",
      " 'rgba(255, 0, 0, 1)',\n",
      " 'rgba(255, 0, 0, 1)',\n",
      " 'rgba(255, 0, 0, 1)',\n",
      " 'rgba(255, 0, 0, 1)',\n",
      " 'rgba(255, 0, 0, 1)',\n",
      " 'rgba(255, 0, 0, 1)',\n",
      " 'rgba(255, 0, 0, 1)',\n",
      " 'rgba(255, 0, 0, 1)',\n",
      " 'rgba(255, 0, 0, 1)',\n",
      " 'rgba(255, 0, 0, 1)',\n",
      " 'rgba(255, 0, 0, 1)',\n",
      " 'rgba(255, 0, 0, 1)',\n",
      " 'rgba(255, 0, 0, 1)',\n",
      " 'rgba(255, 0, 0, 1)',\n",
      " 'rgba(255, 0, 0, 1)',\n",
      " 'rgba(255, 0, 0, 1)',\n",
      " 'rgba(255, 0, 0, 1)',\n",
      " 'rgba(255, 0, 0, 1)',\n",
      " 'rgba(255, 0, 0, 1)',\n",
      " 'rgba(255, 0, 0, 1)',\n",
      " 'rgba(255, 0, 0, 1)',\n",
      " 'rgba(255, 0, 0, 1)',\n",
      " 'rgba(255, 0, 0, 1)',\n",
      " 'rgba(255, 0, 0, 1)',\n",
      " 'rgba(255, 0, 0, 1)',\n",
      " 'rgba(255, 0, 0, 1)',\n",
      " 'rgba(255, 0, 0, 1)',\n",
      " 'rgba(255, 0, 0, 1)',\n",
      " 'rgba(255, 0, 0, 1)',\n",
      " 'rgba(255, 0, 0, 1)',\n",
      " 'rgba(255, 0, 0, 1)',\n",
      " 'rgba(255, 0, 0, 1)',\n",
      " 'rgba(255, 0, 0, 1)',\n",
      " 'rgba(255, 0, 0, 1)',\n",
      " 'rgba(255, 0, 0, 1)',\n",
      " 'rgba(255, 0, 0, 1)',\n",
      " 'rgba(255, 0, 0, 1)',\n",
      " 'rgba(255, 0, 0, 1)',\n",
      " 'rgba(255, 0, 0, 1)',\n",
      " 'rgba(255, 0, 0, 1)',\n",
      " 'rgba(255, 0, 0, 1)',\n",
      " 'rgba(255, 0, 0, 1)',\n",
      " 'rgba(255, 0, 0, 1)',\n",
      " 'rgba(255, 0, 0, 1)',\n",
      " 'rgba(255, 0, 0, 1)',\n",
      " 'rgba(255, 0, 0, 1)',\n",
      " 'rgba(255, 0, 0, 1)',\n",
      " 'rgba(255, 0, 0, 1)',\n",
      " 'rgba(255, 0, 0, 1)',\n",
      " 'rgba(255, 0, 0, 1)',\n",
      " 'rgba(255, 0, 0, 1)',\n",
      " 'rgba(255, 0, 0, 1)',\n",
      " 'rgba(255, 0, 0, 1)',\n",
      " 'rgba(255, 0, 0, 1)',\n",
      " 'rgba(255, 0, 0, 1)',\n",
      " 'rgba(255, 0, 0, 1)',\n",
      " 'rgba(255, 0, 0, 1)',\n",
      " 'rgba(255, 0, 0, 1)',\n",
      " 'rgba(255, 0, 0, 1)',\n",
      " 'rgba(255, 0, 0, 1)',\n",
      " 'rgba(255, 0, 0, 1)',\n",
      " 'rgba(255, 0, 0, 1)',\n",
      " 'rgba(255, 0, 0, 1)',\n",
      " 'rgba(255, 0, 0, 1)',\n",
      " 'rgba(255, 0, 0, 1)',\n",
      " 'rgba(255, 0, 0, 1)',\n",
      " 'rgba(255, 0, 0, 1)',\n",
      " 'rgba(255, 0, 0, 1)',\n",
      " 'rgba(255, 0, 0, 1)',\n",
      " 'rgba(255, 0, 0, 1)',\n",
      " 'rgba(255, 0, 0, 1)',\n",
      " 'rgba(255, 0, 0, 1)',\n",
      " 'rgba(255, 0, 0, 1)',\n",
      " 'rgba(255, 0, 0, 1)',\n",
      " 'rgba(255, 0, 0, 1)',\n",
      " 'rgba(255, 0, 0, 1)',\n",
      " 'rgba(255, 0, 0, 1)',\n",
      " 'rgba(255, 0, 0, 1)',\n",
      " 'rgba(255, 0, 0, 1)',\n",
      " 'rgba(255, 0, 0, 1)',\n",
      " 'rgba(255, 0, 0, 1)',\n",
      " 'rgba(255, 0, 0, 1)',\n",
      " 'rgba(255, 0, 0, 1)',\n",
      " 'rgba(255, 0, 0, 1)',\n",
      " 'rgba(255, 0, 0, 1)',\n",
      " 'rgba(255, 0, 0, 1)',\n",
      " 'rgba(255, 0, 0, 1)',\n",
      " 'rgba(255, 0, 0, 1)',\n",
      " 'rgba(255, 0, 0, 1)',\n",
      " 'rgba(255, 0, 0, 1)',\n",
      " 'rgba(255, 0, 0, 1)',\n",
      " 'rgba(255, 0, 0, 1)',\n",
      " 'rgba(255, 0, 0, 1)',\n",
      " 'rgba(255, 0, 0, 1)',\n",
      " 'rgba(255, 0, 0, 1)',\n",
      " 'rgba(255, 0, 0, 1)',\n",
      " 'rgba(255, 0, 0, 1)',\n",
      " 'rgba(255, 0, 0, 1)',\n",
      " 'rgba(255, 0, 0, 1)',\n",
      " 'rgba(255, 0, 0, 1)',\n",
      " 'rgba(255, 0, 0, 1)',\n",
      " 'rgba(255, 0, 0, 1)',\n",
      " 'rgba(255, 0, 0, 1)',\n",
      " 'rgba(255, 0, 0, 1)',\n",
      " 'rgba(255, 0, 0, 1)',\n",
      " 'rgba(255, 0, 0, 1)',\n",
      " 'rgba(255, 0, 0, 1)',\n",
      " 'rgba(255, 0, 0, 1)',\n",
      " 'rgba(255, 0, 0, 1)',\n",
      " 'rgba(255, 0, 0, 1)',\n",
      " 'rgba(255, 0, 0, 1)',\n",
      " 'rgba(255, 0, 0, 1)',\n",
      " 'rgba(255, 0, 0, 1)',\n",
      " 'rgba(255, 0, 0, 1)',\n",
      " 'rgba(255, 0, 0, 1)',\n",
      " 'rgba(255, 0, 0, 1)',\n",
      " 'rgba(255, 0, 0, 1)',\n",
      " 'rgba(255, 0, 0, 1)',\n",
      " 'rgba(255, 0, 0, 1)',\n",
      " 'rgba(255, 0, 0, 1)',\n",
      " 'rgba(255, 0, 0, 1)',\n",
      " 'rgba(255, 0, 0, 1)']\n"
     ]
    }
   ],
   "source": [
    "btns_rgba = [btn.value_of_css_property('background-color') for btn in btns]\n",
    "pprint(btns_rgba)"
   ]
  },
  {
   "cell_type": "markdown",
   "id": "b6a53b3e",
   "metadata": {},
   "source": [
    "* 정답 찾기\n",
    "\n",
    "\n",
    "* btns_rgba 값 찾기 - >  collections모듈의 Counter함수를 이용, Counter함수는 값(value)과 개수를 딕셔너리(dict)로 반환해줍니다.\n",
    "\n",
    "\n",
    "* 반환된 딕셔너리에서 value가 1인 것이 정답의 배경색 정보이다."
   ]
  },
  {
   "cell_type": "code",
   "execution_count": 3,
   "id": "3ac5f1ea",
   "metadata": {
    "ExecuteTime": {
     "end_time": "2021-06-08T02:46:30.127242Z",
     "start_time": "2021-06-08T02:46:30.114253Z"
    }
   },
   "outputs": [
    {
     "name": "stdout",
     "output_type": "stream",
     "text": [
      "Counter({'rgba(255, 0, 0, 1)': 226,\n",
      "         'rgba(163, 180, 195, 1)': 3,\n",
      "         'rgba(130, 147, 228, 1)': 1})\n"
     ]
    }
   ],
   "source": [
    "from collections import Counter\n",
    "\n",
    "result = Counter(btns_rgba)\n",
    "pprint(result)   # 여기서 나온 value가 1인게 정답이다.\n",
    "\n",
    "# value가 1인 것을 탐색\n",
    "for key, value in result.items():\n",
    "    if value == 1:\n",
    "        answer = key\n",
    "        break\n",
    "\n",
    "else:\n",
    "    answer = None\n",
    "    print(\"정답을 찾을 수 없습니다.\")"
   ]
  },
  {
   "cell_type": "markdown",
   "id": "08e060e6",
   "metadata": {},
   "source": [
    "* 정답 누르기\n",
    "\n",
    "\n",
    "* 버튼 요소를 저장한 btns에 배경색 정보를 순서대로 추출한 것이 btns_rgba 임으로 인덱스가 일치\n",
    "\n",
    "\n",
    "* 1. answer에 저장된 색이 어느 위치(인덱스)에 있는지 btns_rgba에서 찾고\n",
    "* 2. 그 인덱스로 btns에 저장된 요소를 조회하여 클릭을 한다."
   ]
  },
  {
   "cell_type": "code",
   "execution_count": 4,
   "id": "5a0d8eef",
   "metadata": {
    "ExecuteTime": {
     "end_time": "2021-06-08T02:55:26.256961Z",
     "start_time": "2021-06-08T02:55:26.202100Z"
    }
   },
   "outputs": [],
   "source": [
    "# 정답 클릭\n",
    "# 1. btns_rgba에서 인덱스 값을 구하고\n",
    "# 2. 그 인덱스 값으로 btns 인덱스에 접근, 클릭\n",
    "if answer:\n",
    "    index = btns_rgba.index(answer)\n",
    "    btns[index].click()"
   ]
  },
  {
   "cell_type": "markdown",
   "id": "ce7a5b4c",
   "metadata": {},
   "source": [
    "* 제한 시간동안 수행\n",
    "\n",
    "\n",
    "* 반복하는 함수를 만들어서 60초동안 이를 계속 함수 호출이 되도록 만듬\n",
    "\n",
    "\n",
    "* time.time()은 UTC기준부터 현재까지의 시간을 초로 반환해줍니다. 이를 이용해 60초가 지났는지 확인\n"
   ]
  },
  {
   "cell_type": "code",
   "execution_count": 7,
   "id": "61b8d1be",
   "metadata": {
    "ExecuteTime": {
     "end_time": "2021-06-08T03:10:57.506247Z",
     "start_time": "2021-06-08T03:09:47.970529Z"
    }
   },
   "outputs": [],
   "source": [
    "from selenium import webdriver\n",
    "from collections import Counter\n",
    "from pprint import pprint\n",
    "import time\n",
    "\n",
    "driver = webdriver.Chrome('chromedriver')\n",
    "driver.get('http://zzzscore.com/color/')\n",
    "driver.implicitly_wait(300)\n",
    "\n",
    "btns = driver.find_elements_by_xpath('//*[@id=\"grid\"]/div')\n",
    "\n",
    "# 반복되는 함수 생성\n",
    "def analysis():\n",
    "    # btns = driver.find_elements_by_xpath('//*[@id=\"grid\"]/div')\n",
    "    # print(len(btns))\n",
    "    \n",
    "    btns_rgba = [btn.value_of_css_property('background-color') for btn in btns]\n",
    "    # pprint(btns_rgba)\n",
    "    \n",
    "    result = Counter(btns_rgba)\n",
    "    # pprint(result)  # 여기서 value가 1인게 정답\n",
    "    \n",
    "    # value가 1인 것을 탐색\n",
    "    for key, value in result.items():\n",
    "        if value == 1:\n",
    "            answer = key\n",
    "            break\n",
    "    \n",
    "    else:\n",
    "        answer = None\n",
    "        print(\"정답을 찾을 수 없습니다.\")\n",
    "        \n",
    "    # 정답 클릭\n",
    "    # 1. btns_rgba에서 인덱스 값을 구하고\n",
    "    # 2. 그 인덱스 값으로 btns 인덱스에 접근, 클릭\n",
    "    if answer:\n",
    "        index = btns_rgba.index(answer)\n",
    "        btns[index].click()\n",
    "        \n",
    "if __name__==\"__main__\":\n",
    "    start = time.time()\n",
    "    while time.time() - start <= 60:\n",
    "        analysis()"
   ]
  },
  {
   "cell_type": "markdown",
   "id": "411d6195",
   "metadata": {},
   "source": [
    "## 더 간편한 방법으로 하기\n",
    "\n",
    "\n",
    "* 이 웹페이지의 소스코드를 보면 정답 버튼은 class=\"main\"이라는 속성값을 가지고 있다.\n",
    "\n",
    "\n",
    "* 그래서 css정보를 따로 추출하지 않아도 금방 할수 있음"
   ]
  },
  {
   "cell_type": "code",
   "execution_count": 8,
   "id": "d925ef41",
   "metadata": {
    "ExecuteTime": {
     "end_time": "2021-06-08T03:13:58.374957Z",
     "start_time": "2021-06-08T03:12:53.737162Z"
    }
   },
   "outputs": [],
   "source": [
    "from selenium import webdriver\n",
    "from pprint import pprint\n",
    "import time\n",
    "\n",
    "driver = webdriver.Chrome('chromedriver')\n",
    "driver.get('http://zzzscore.com/color/')\n",
    "driver.implicitly_wait(300)\n",
    "\n",
    "#시작 시각\n",
    "start = time.time()\n",
    "\n",
    "while time.time() - start <= 60:\n",
    "    try:\n",
    "        btn = driver.find_element_by_class_name(\"main\")\n",
    "        btn.click()\n",
    "    except:\n",
    "        pass"
   ]
  },
  {
   "cell_type": "code",
   "execution_count": null,
   "id": "695035de",
   "metadata": {},
   "outputs": [],
   "source": []
  }
 ],
 "metadata": {
  "kernelspec": {
   "display_name": "Python 3",
   "language": "python",
   "name": "python3"
  },
  "language_info": {
   "codemirror_mode": {
    "name": "ipython",
    "version": 3
   },
   "file_extension": ".py",
   "mimetype": "text/x-python",
   "name": "python",
   "nbconvert_exporter": "python",
   "pygments_lexer": "ipython3",
   "version": "3.8.9"
  },
  "toc": {
   "base_numbering": 1,
   "nav_menu": {},
   "number_sections": true,
   "sideBar": true,
   "skip_h1_title": false,
   "title_cell": "Table of Contents",
   "title_sidebar": "Contents",
   "toc_cell": false,
   "toc_position": {},
   "toc_section_display": true,
   "toc_window_display": false
  },
  "varInspector": {
   "cols": {
    "lenName": 16,
    "lenType": 16,
    "lenVar": 40
   },
   "kernels_config": {
    "python": {
     "delete_cmd_postfix": "",
     "delete_cmd_prefix": "del ",
     "library": "var_list.py",
     "varRefreshCmd": "print(var_dic_list())"
    },
    "r": {
     "delete_cmd_postfix": ") ",
     "delete_cmd_prefix": "rm(",
     "library": "var_list.r",
     "varRefreshCmd": "cat(var_dic_list()) "
    }
   },
   "types_to_exclude": [
    "module",
    "function",
    "builtin_function_or_method",
    "instance",
    "_Feature"
   ],
   "window_display": false
  }
 },
 "nbformat": 4,
 "nbformat_minor": 5
}
