{
 "cells": [
  {
   "cell_type": "markdown",
   "id": "1acb4e8c",
   "metadata": {},
   "source": [
    "## 트위치 클립 다운로드\n",
    "\n",
    "\n",
    "* 트위치 클립은 video태그에 src속성을 확인\n",
    "\n",
    "\n",
    "* 추출할 요소의 태그가 명확하니 find_element_by_tag_name 사용\n",
    "\n",
    "\n",
    "* selenium에서 추출한 요소의 속성값을 확인하려면 get_attribute를 사용할 수 있다."
   ]
  },
  {
   "cell_type": "code",
   "execution_count": 3,
   "id": "ba6607a6",
   "metadata": {
    "ExecuteTime": {
     "end_time": "2021-06-08T03:38:05.030897Z",
     "start_time": "2021-06-08T03:37:57.050026Z"
    }
   },
   "outputs": [
    {
     "name": "stdout",
     "output_type": "stream",
     "text": [
      "https://production.assets.clips.twitchcdn.net/33794274480-offset-2606.mp4?sig=23385dc1d8b638c28ca2b931cdaf222325b6bf9c&token=%7B%22authorization%22%3A%7B%22forbidden%22%3Afalse%2C%22reason%22%3A%22%22%7D%2C%22clip_uri%22%3A%22https%3A%2F%2Fcanary.assets.clips.twitchcdn.net%2F33794274480-offset-2606.mp4%22%2C%22device_id%22%3A%22e73peRCUnjAJAwMVz3Xq8gQhdvmXX3Od%22%2C%22expires%22%3A1623195480%2C%22user_id%22%3A%22%22%2C%22version%22%3A2%7D\n"
     ]
    }
   ],
   "source": [
    "from selenium import webdriver\n",
    "import time\n",
    "\n",
    "driver = webdriver.Chrome('chromedriver')\n",
    "driver.get(\"https://www.twitch.tv/soorte214/clip/AgileGracefulCheesecakePeteZarollTie\")  # 특정 클립 링크\n",
    "\n",
    "time.sleep(3)\n",
    "\n",
    "# video 태그 확인\n",
    "url_element = driver.find_element_by_tag_name('video')\n",
    "vid_url = url_element.get_attribute('src')\n",
    "print(vid_url)"
   ]
  },
  {
   "cell_type": "markdown",
   "id": "fa4eeadd",
   "metadata": {},
   "source": [
    "## 영상 제목과 날짜\n",
    "\n",
    "\n",
    "* 제목과 날짜를 추출"
   ]
  },
  {
   "cell_type": "code",
   "execution_count": 5,
   "id": "a1a490ae",
   "metadata": {
    "ExecuteTime": {
     "end_time": "2021-06-08T05:32:38.408608Z",
     "start_time": "2021-06-08T05:32:23.505860Z"
    }
   },
   "outputs": [
    {
     "name": "stdout",
     "output_type": "stream",
     "text": [
      "https://production.assets.clips.twitchcdn.net/33794274480-offset-2606.mp4?sig=8edd9c7ee0d43238e3277bcc5d7f334d4ee5e091&token=%7B%22authorization%22%3A%7B%22forbidden%22%3Afalse%2C%22reason%22%3A%22%22%7D%2C%22clip_uri%22%3A%22https%3A%2F%2Fproduction.assets.clips.twitchcdn.net%2F33794274480-offset-2606.mp4%22%2C%22device_id%22%3A%22Jw3xCN5UCyK0FBUXTtbvixDZV66VlQnQ%22%2C%22expires%22%3A1623202350%2C%22user_id%22%3A%22%22%2C%22version%22%3A2%7D\n",
      "None \t None\n"
     ]
    }
   ],
   "source": [
    "from selenium import webdriver\n",
    "import time\n",
    "\n",
    "driver = webdriver.Chrome('chromedriver')\n",
    "driver.get('https://www.twitch.tv/soorte214/clip/AgileGracefulCheesecakePeteZarollTie')  # 특정 클립 링크\n",
    "\n",
    "time.sleep(3)\n",
    "\n",
    "# video 태그 확인\n",
    "url_element = driver.find_element_by_tag_name('video')\n",
    "vid_url = url_element.get_attribute('src')\n",
    "print(vid_url)\n",
    "\n",
    "# 클립 제목과 날짜 확인\n",
    "title_element1 = driver.find_element_by_class_name('fPFCUN')\n",
    "title_element2 = title_element1.find_elements_by_tag_name('span')\n",
    "vid_title, vid_date = None, None\n",
    "\n",
    "for span in title_element2:\n",
    "    try:\n",
    "        d_type = span.get_attribute('data-test-selector')\n",
    "        if d_type == 'title':\n",
    "            vid_title = span.text\n",
    "        elif d_type == 'date':\n",
    "            vid_date = span.text\n",
    "            \n",
    "    except:\n",
    "        pass\n",
    "    \n",
    "print(vid_title, '\\t', vid_date)"
   ]
  },
  {
   "cell_type": "markdown",
   "id": "f10daf48",
   "metadata": {},
   "source": [
    "## 영상 다운로드"
   ]
  },
  {
   "cell_type": "code",
   "execution_count": 1,
   "id": "85fad450",
   "metadata": {
    "ExecuteTime": {
     "end_time": "2021-06-08T05:48:08.686281Z",
     "start_time": "2021-06-08T05:47:54.494787Z"
    }
   },
   "outputs": [
    {
     "name": "stdout",
     "output_type": "stream",
     "text": [
      "https://production.assets.clips.twitchcdn.net/33794274480-offset-2606.mp4?sig=d870b6d167557f1fb0b780db02870893f345fbca&token=%7B%22authorization%22%3A%7B%22forbidden%22%3Afalse%2C%22reason%22%3A%22%22%7D%2C%22clip_uri%22%3A%22https%3A%2F%2Fproduction.assets.clips.twitchcdn.net%2F33794274480-offset-2606.mp4%22%2C%22device_id%22%3A%22GsJPSpddMHHKpoPbeSZWFTDTGIVu3jV8%22%2C%22expires%22%3A1623203278%2C%22user_id%22%3A%22%22%2C%22version%22%3A2%7D\n",
      "None \t None\n",
      "None \t None\n"
     ]
    }
   ],
   "source": [
    "from selenium import webdriver\n",
    "import time\n",
    "\n",
    "driver = webdriver.Chrome('chromedriver')\n",
    "driver.get('https://www.twitch.tv/soorte214/clip/AgileGracefulCheesecakePeteZarollTie')  # 특정 클립 링크\n",
    "\n",
    "time.sleep(3)\n",
    "\n",
    "# video 태그 확인\n",
    "url_element = driver.find_element_by_tag_name('video')\n",
    "vid_url = url_element.get_attribute('src')\n",
    "print(vid_url)\n",
    "\n",
    "# 클립 제목과 날짜 확인\n",
    "title_element1 = driver.find_element_by_class_name('fPFCUN')\n",
    "title_element2 = title_element1.find_elements_by_tag_name('span')\n",
    "vid_title, vid_date = None, None\n",
    "\n",
    "for span in title_element2:\n",
    "    try:\n",
    "        d_type = span.get_attribute('data-test-selector')\n",
    "        if d_type == 'title':\n",
    "            vid_title = span.text\n",
    "        elif d_type == 'date':\n",
    "            vid_date = span.text\n",
    "            \n",
    "    except:\n",
    "        pass\n",
    "    \n",
    "print(vid_title, '\\t', vid_date)\n",
    "\n",
    "#특수문자 없애고 빈칸도 없에기\n",
    "import re\n",
    "vid_title = re.sub('[^0-9a-zA-Zㄱ-힗]', '', str(vid_title))\n",
    "vid_date = re.sub('[^0-9a-zA-Zㄱ-힗]', '', str(vid_date))\n",
    "print(vid_title,'\\t',vid_date)\n",
    "\n",
    "from urllib.request import urlretrieve\n",
    "urlretrieve(vid_url, vid_title+'_'+vid_date+'.mp4')\n",
    "\n",
    "driver.close()"
   ]
  },
  {
   "cell_type": "code",
   "execution_count": null,
   "id": "c03ac73b",
   "metadata": {},
   "outputs": [],
   "source": []
  }
 ],
 "metadata": {
  "kernelspec": {
   "display_name": "Python 3",
   "language": "python",
   "name": "python3"
  },
  "language_info": {
   "codemirror_mode": {
    "name": "ipython",
    "version": 3
   },
   "file_extension": ".py",
   "mimetype": "text/x-python",
   "name": "python",
   "nbconvert_exporter": "python",
   "pygments_lexer": "ipython3",
   "version": "3.8.9"
  },
  "toc": {
   "base_numbering": 1,
   "nav_menu": {},
   "number_sections": true,
   "sideBar": true,
   "skip_h1_title": false,
   "title_cell": "Table of Contents",
   "title_sidebar": "Contents",
   "toc_cell": false,
   "toc_position": {},
   "toc_section_display": true,
   "toc_window_display": false
  },
  "varInspector": {
   "cols": {
    "lenName": 16,
    "lenType": 16,
    "lenVar": 40
   },
   "kernels_config": {
    "python": {
     "delete_cmd_postfix": "",
     "delete_cmd_prefix": "del ",
     "library": "var_list.py",
     "varRefreshCmd": "print(var_dic_list())"
    },
    "r": {
     "delete_cmd_postfix": ") ",
     "delete_cmd_prefix": "rm(",
     "library": "var_list.r",
     "varRefreshCmd": "cat(var_dic_list()) "
    }
   },
   "types_to_exclude": [
    "module",
    "function",
    "builtin_function_or_method",
    "instance",
    "_Feature"
   ],
   "window_display": false
  }
 },
 "nbformat": 4,
 "nbformat_minor": 5
}
