{
 "cells": [
  {
   "cell_type": "markdown",
   "id": "7ff6316b",
   "metadata": {},
   "source": [
    "* 웹크롤링을 하다 보면 여러 가지 어려운 상황을 마주치게 됩니다. 대표적인 상황은 다음과 같습니다.\n",
    "\n",
    " \n",
    "\n",
    "- 해당 웹사이트가 프로그램을 통한 접근 허용하지 않는 경우\n",
    "\n",
    "- 해당 웹사이트가 로그인을 요구하는 경우\n",
    "\n",
    "- 해당 웹사이트가 동적 웹페이지로 구성되어 있는 경우\n",
    "\n",
    " \n",
    "\n",
    "이런 경우에는 requests 라이브러리만으로 해결하기에는 쉽지 않습니다. 이럴 때 상황을 해결하는 가장 손쉽고 효과적인 방법이 바로 selenium을 이용하는 것입니다."
   ]
  },
  {
   "cell_type": "markdown",
   "id": "785ea929",
   "metadata": {},
   "source": [
    "* selenium은 웹사이트 테스트를 위한 도구로 브라우저 동작을 자동화할 수 있습니다. 셀레니움을 이용하는 웹크롤링 방식은 바로 이점을 적극적으로 활용하는 것입니다. 프로그래밍으로 브라우저 동작을 제어해서 마치 사람이 이용하는 것 같이 웹페이지를 요청하고 응답을 받아올 수 있습니다."
   ]
  },
  {
   "cell_type": "markdown",
   "id": "13f9dde5",
   "metadata": {
    "ExecuteTime": {
     "end_time": "2021-06-04T07:29:35.273791Z",
     "start_time": "2021-06-04T07:29:34.079892Z"
    }
   },
   "source": [
    "## 유튜브 키워드 검색"
   ]
  },
  {
   "cell_type": "markdown",
   "id": "56e8a820",
   "metadata": {},
   "source": [
    "* selenium에서는 대체로 xpath로 경로를 계산하여 요소를 탐색\n",
    "* youtube의 검색창의 xpath 확인"
   ]
  },
  {
   "cell_type": "code",
   "execution_count": 3,
   "id": "ea7f047f",
   "metadata": {
    "ExecuteTime": {
     "end_time": "2021-06-04T07:35:25.215143Z",
     "start_time": "2021-06-04T07:35:25.212154Z"
    }
   },
   "outputs": [],
   "source": [
    "# youtube의 검색창의 xpath\n",
    "# //*[@id=\"search\"]"
   ]
  },
  {
   "cell_type": "code",
   "execution_count": 4,
   "id": "6da08fb3",
   "metadata": {
    "ExecuteTime": {
     "end_time": "2021-06-04T07:35:46.372245Z",
     "start_time": "2021-06-04T07:35:46.219931Z"
    }
   },
   "outputs": [],
   "source": [
    "from selenium import webdriver\n",
    "import time"
   ]
  },
  {
   "cell_type": "code",
   "execution_count": 5,
   "id": "f6466233",
   "metadata": {
    "ExecuteTime": {
     "end_time": "2021-06-04T07:39:30.374053Z",
     "start_time": "2021-06-04T07:39:06.267750Z"
    }
   },
   "outputs": [],
   "source": [
    "driver = webdriver.Chrome('chromedriver')\n",
    "driver.get(\"https://www.youtube.com\")\n",
    "\n",
    "time.sleep(3)  # 사이트가 로딩 시간이 있어서 모든 정보들이 브라우저에 나타날 때까지 기다리기 위해 넣어 준 코드입니다.\n",
    "\n",
    "# 검색어 창을 찾아 search 변수에 저장\n",
    "search = driver.find_element_by_xpath('//*[@id=\"search\"]')\n",
    "\n",
    "# search 변수에 저장된 곳에 값을 전송\n",
    "search.send_keys('반원 코딩')\n",
    "time.sleep(1)"
   ]
  },
  {
   "cell_type": "markdown",
   "id": "e0864c00",
   "metadata": {},
   "source": [
    "* Enter 전송\n",
    "* 1. from selenium.webdriver.common.keys import Keys 을 참조 \n",
    "* 2. search.send_keys(Keys.원하는키) 를 실행"
   ]
  },
  {
   "cell_type": "code",
   "execution_count": 6,
   "id": "75353979",
   "metadata": {
    "ExecuteTime": {
     "end_time": "2021-06-04T08:14:00.443021Z",
     "start_time": "2021-06-04T08:14:00.438059Z"
    }
   },
   "outputs": [],
   "source": [
    "# 엔터를 전송하고 싶으면 Keys.Enter\n",
    "# 가능한 키 ->\n",
    "# Keys.ARROW_DOWN , Keys.ARROW_LEFT , Keys.ARROW_RIGHT\n",
    "# Keys.ARROW_UP , Keys.BACK_SPACE , Keys.CONTROL\n",
    "# Keys.ALT , Keys.DELETE , Keys.ENTER , Keys.SHIFT\n",
    "# Keys.SPACE , Keys.TAB , Keys.EQUALS , Keys.ESCAPE\n",
    "# Keys.HOME , Keys.INSERT , PgUp Key  Keys.PAGE_UP\n",
    "# Keys.PAGE_DOWN , Keys.F1 , Keys.F2 , Keys.F3 , Keys.F4\n",
    "# Keys.F5 , Keys.F6 , Keys.F7 , Keys.F8 , Keys.F9 , Keys.F10\n",
    "# Keys.F11 , Keys.F12"
   ]
  },
  {
   "cell_type": "code",
   "execution_count": 7,
   "id": "a44f0819",
   "metadata": {
    "ExecuteTime": {
     "end_time": "2021-06-04T08:14:25.510639Z",
     "start_time": "2021-06-04T08:14:25.500640Z"
    }
   },
   "outputs": [],
   "source": [
    "from selenium.webdriver.common.keys import Keys"
   ]
  },
  {
   "cell_type": "code",
   "execution_count": 8,
   "id": "9fcc7954",
   "metadata": {
    "ExecuteTime": {
     "end_time": "2021-06-04T08:14:53.262524Z",
     "start_time": "2021-06-04T08:14:53.180081Z"
    }
   },
   "outputs": [],
   "source": [
    "# search 변수에 저장된 곳에 엔터를 입력\n",
    "search.send_keys(Keys.ENTER)"
   ]
  },
  {
   "cell_type": "markdown",
   "id": "15405a5a",
   "metadata": {},
   "source": [
    "* 최종 코드"
   ]
  },
  {
   "cell_type": "code",
   "execution_count": 9,
   "id": "2d394df7",
   "metadata": {
    "ExecuteTime": {
     "end_time": "2021-06-04T08:15:58.585285Z",
     "start_time": "2021-06-04T08:15:41.619740Z"
    }
   },
   "outputs": [],
   "source": [
    "from selenium import webdriver\n",
    "import time\n",
    "from selenium.webdriver.common.keys import Keys\n",
    "\n",
    "driver = webdriver.Chrome('chromedriver')\n",
    "driver.get(\"https://www.youtube.com\")\n",
    "\n",
    "time.sleep(3)  # 사이트가 로딩 시간이 있어서 모든 정보들이 브라우저에 나타날 때까지 기다리기 위해 넣어 준 코드입니다.\n",
    "\n",
    "# 검색어 창을 찾아 search 변수에 저장\n",
    "search = driver.find_element_by_xpath('//*[@id=\"search\"]')\n",
    "\n",
    "# search 변수에 저장된 곳에 값을 전송\n",
    "search.send_keys('반원 코딩')\n",
    "time.sleep(1)\n",
    "\n",
    "# search 변수에 저장된 곳에 엔터를 입력\n",
    "search.send_keys(Keys.ENTER)"
   ]
  },
  {
   "cell_type": "code",
   "execution_count": null,
   "id": "16a1e073",
   "metadata": {},
   "outputs": [],
   "source": []
  }
 ],
 "metadata": {
  "kernelspec": {
   "display_name": "Python 3",
   "language": "python",
   "name": "python3"
  },
  "language_info": {
   "codemirror_mode": {
    "name": "ipython",
    "version": 3
   },
   "file_extension": ".py",
   "mimetype": "text/x-python",
   "name": "python",
   "nbconvert_exporter": "python",
   "pygments_lexer": "ipython3",
   "version": "3.8.9"
  },
  "toc": {
   "base_numbering": 1,
   "nav_menu": {},
   "number_sections": true,
   "sideBar": true,
   "skip_h1_title": false,
   "title_cell": "Table of Contents",
   "title_sidebar": "Contents",
   "toc_cell": false,
   "toc_position": {},
   "toc_section_display": true,
   "toc_window_display": false
  },
  "varInspector": {
   "cols": {
    "lenName": 16,
    "lenType": 16,
    "lenVar": 40
   },
   "kernels_config": {
    "python": {
     "delete_cmd_postfix": "",
     "delete_cmd_prefix": "del ",
     "library": "var_list.py",
     "varRefreshCmd": "print(var_dic_list())"
    },
    "r": {
     "delete_cmd_postfix": ") ",
     "delete_cmd_prefix": "rm(",
     "library": "var_list.r",
     "varRefreshCmd": "cat(var_dic_list()) "
    }
   },
   "types_to_exclude": [
    "module",
    "function",
    "builtin_function_or_method",
    "instance",
    "_Feature"
   ],
   "window_display": false
  }
 },
 "nbformat": 4,
 "nbformat_minor": 5
}
