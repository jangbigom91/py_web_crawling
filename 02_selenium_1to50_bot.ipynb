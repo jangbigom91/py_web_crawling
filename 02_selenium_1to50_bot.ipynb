{
 "cells": [
  {
   "cell_type": "markdown",
   "id": "ed555c95",
   "metadata": {},
   "source": [
    "## 1 to 50 봇\n",
    "* http://zzzscore.com/1to50/  \n",
    "\n",
    "\n",
    "*   \"각 버튼들에 어떤 글자가 들어있는가?\" 를 파악해서 클릭할 버튼을 찾아낸다.\n",
    "* 1. 게임에 사용되는 모든 버튼 요소 정보를 가져온다.\n",
    "* 2. 각 버튼(영역)의 내부내용(.text)를 파악한다.\n",
    "* 3. 우리가 찾는 숫자면 클릭한다."
   ]
  },
  {
   "cell_type": "markdown",
   "id": "d39464e5",
   "metadata": {},
   "source": [
    "* 먼저 5x5에서 (1,1) 위치에 있는 버튼의 xpath를 copy해서 확인\n",
    "\n",
    "\n",
    "* (1,1) 위치 div의 xpath : //*[@id=\"grid\"]/div[1]\n",
    "* (1,2) 위치 div의 xpath : //*[@id=\"grid\"]/div[2]\n",
    "* (1,3) 위치 div의 xpath : //*[@id=\"grid\"]/div[3]\n",
    "* ...\n",
    "* (5,5) 위치 div의 xpath : //*[@id=\"grid\"]/div[25]  \n",
    "\n",
    "\n",
    "* //*[@id=\"grid\"]/div[xx] 이런 형태로 되어있는 것을 모두 감지하기 위해, 변하는 부분에 를 넣어 //*[@id=\"grid\"]/div[*]로 해당요소를 전부 탐색"
   ]
  },
  {
   "cell_type": "code",
   "execution_count": 13,
   "id": "eb856acf",
   "metadata": {
    "ExecuteTime": {
     "end_time": "2021-06-08T01:53:00.067177Z",
     "start_time": "2021-06-08T01:52:50.874749Z"
    }
   },
   "outputs": [
    {
     "name": "stdout",
     "output_type": "stream",
     "text": [
      "25\n",
      "14\n"
     ]
    }
   ],
   "source": [
    "from selenium import webdriver\n",
    "\n",
    "driver = webdriver.Chrome('chromedriver')\n",
    "driver.get('http://zzzscore.com/1to50')\n",
    "driver.implicitly_wait(300)                                     # time.sleep과 driver.implicitly_wait 차이점(https://balsamic-egg.tistory.com/16 참고)\n",
    "                                                                # time.sleep은 지정한 초 만큼 무조건 기다림, driver.implicitly_wait은 지정한 초안에 load가 되면 바로 넘어가고\n",
    "                                                                # 아니면 기다림. webcrawling 을 할 때는 driver.implicitly_wait() 을 사용하는게 좋습니다. (속도면에서)\n",
    "\n",
    "btns = driver.find_elements_by_xpath('//*[@id=\"grid\"]/div[*]')  # * 모든 부분을 가져와야 되기때문에 find_elements_by_xpath 써야한다.\n",
    "                                                                # elements에서 s가 빠지면 \"object of type 'WebElement' has no len()\" 에러 발생한다.         \n",
    "\n",
    "print(len(btns))  # 버튼의 개수 5x5\n",
    "print(btns[0].text) # 첫번째 버튼 text"
   ]
  },
  {
   "cell_type": "markdown",
   "id": "0cfabcb1",
   "metadata": {},
   "source": [
    "* 1번 누르기\n",
    "* 가져온 버튼 요소 중 텍스트가 1인 것을 찾아 클릭하도록 코드를 작성"
   ]
  },
  {
   "cell_type": "code",
   "execution_count": 12,
   "id": "78530a38",
   "metadata": {
    "ExecuteTime": {
     "end_time": "2021-06-08T01:51:11.887214Z",
     "start_time": "2021-06-08T01:51:11.593517Z"
    }
   },
   "outputs": [],
   "source": [
    "for btn in btns:\n",
    "    if btn.text == \"1\":\n",
    "        btn.click()"
   ]
  },
  {
   "cell_type": "markdown",
   "id": "36a9faa0",
   "metadata": {},
   "source": [
    "## 1 ~ 50 까지 클릭하기"
   ]
  },
  {
   "cell_type": "code",
   "execution_count": 14,
   "id": "a21cb70f",
   "metadata": {
    "ExecuteTime": {
     "end_time": "2021-06-08T01:53:30.618073Z",
     "start_time": "2021-06-08T01:53:18.874208Z"
    }
   },
   "outputs": [
    {
     "name": "stdout",
     "output_type": "stream",
     "text": [
      "6\t13\t8\t2\t9\t20\t22\t14\t7\t17\t1\tTrue\n",
      "6\t13\t8\t2\tTrue\n",
      "6\t13\t8\t2\t9\t20\t22\t14\t7\t17\t36\t5\t4\t21\t23\t25\t16\t18\t24\t19\t10\t12\t15\t11\t3\tTrue\n",
      "6\t13\t8\t33\t9\t20\t22\t14\t7\t17\t36\t5\t4\tTrue\n",
      "6\t13\t8\t33\t9\t20\t22\t14\t7\t17\t36\t5\tTrue\n",
      "6\tTrue\n",
      "6\t13\t8\t33\t9\t20\t22\t14\t7\tTrue\n",
      "29\t13\t8\tTrue\n",
      "29\t13\t8\t33\t9\tTrue\n",
      "29\t13\t\t33\t9\t20\t22\t14\t45\t17\t36\t46\t42\t21\t23\t25\t16\t18\t24\t19\t10\tTrue\n",
      "29\t13\t43\t33\t48\t20\t22\t14\t45\t17\t36\t46\t42\t21\t23\t25\t16\t18\t24\t19\t49\t12\t15\t11\tTrue\n",
      "29\t13\t43\t33\t48\t20\t22\t14\t45\t17\t36\t46\t42\t21\t23\t25\t16\t18\t24\t19\t49\t12\tTrue\n",
      "29\t13\tTrue\n",
      "29\t13\t43\t33\t48\t20\t22\t14\tTrue\n",
      "29\t32\t43\t33\t48\t20\t22\t14\t45\t17\t36\t46\t42\t21\t23\t25\t16\t18\t24\t19\t49\t28\t15\tTrue\n",
      "29\t32\t43\t33\t48\t20\t22\t39\t45\t17\t36\t46\t42\t21\t23\t25\t16\tTrue\n",
      "29\t32\t43\t33\t48\t20\t22\t39\t45\t17\tTrue\n",
      "29\t32\t43\t33\t48\t20\t22\t39\t45\t17\t36\t46\t42\t21\t23\t25\t34\t18\tTrue\n",
      "29\t32\t43\t33\t48\t20\t22\t39\t45\t44\t36\t46\t42\t21\t23\t25\t34\t26\t24\t19\tTrue\n",
      "29\t32\t43\t33\t48\t20\tTrue\n",
      "29\t32\t43\t33\t48\t20\t22\t39\t45\t44\t36\t46\t42\t21\tTrue\n",
      "29\t32\t43\t33\t48\t38\t22\tTrue\n",
      "29\t32\t43\t33\t48\t38\t22\t39\t45\t44\t36\t46\t42\t37\t23\tTrue\n",
      "29\t32\t43\t33\t48\t38\t50\t39\t45\t44\t36\t46\t42\t37\t41\t25\t34\t26\t24\tTrue\n",
      "29\t32\t43\t33\t48\t38\t50\t39\t45\t44\t36\t46\t42\t37\t41\t25\tTrue\n",
      "29\t32\t43\t33\t48\t38\t50\t39\t45\t44\t36\t46\t42\t37\t41\t27\t34\t26\tTrue\n",
      "29\t32\t43\t33\t48\t38\t50\t39\t45\t44\t36\t46\t42\t37\t41\t27\tTrue\n",
      "29\t32\t43\t33\t48\t38\t50\t39\t45\t44\t36\t46\t42\t37\t41\t34\t31\t35\t49\t28\tTrue\n",
      "29\tTrue\n",
      "32\t43\t33\t48\t38\t50\t39\t45\t44\t36\t46\t42\t37\t41\t34\t31\t35\t49\t40\t30\tTrue\n",
      "32\t43\t33\t48\t38\t50\t39\t45\t44\t36\t46\t42\t37\t41\t34\t31\tTrue\n",
      "32\tTrue\n",
      "43\t33\tTrue\n",
      "43\t48\t38\t50\t39\t45\t44\t36\t46\t42\t37\t41\t34\tTrue\n",
      "43\t48\t38\t50\t39\t45\t44\t36\t46\t42\t37\t41\t35\tTrue\n",
      "43\t48\t38\t50\t39\t45\t44\t36\tTrue\n",
      "43\t48\t38\t50\t39\t45\t44\t46\t42\t37\tTrue\n",
      "43\t48\t38\tTrue\n",
      "43\t48\t50\t39\tTrue\n",
      "43\t48\t50\t45\t44\t46\t42\t41\t49\t40\tTrue\n",
      "43\t48\t50\t45\t44\t46\t42\t41\tTrue\n",
      "43\t48\t50\t45\t44\t46\t42\tTrue\n",
      "43\tTrue\n",
      "48\t50\t45\t44\tTrue\n",
      "48\t50\t45\tTrue\n",
      "48\t50\t46\tTrue\n",
      "48\t50\t49\t47\tTrue\n",
      "48\tTrue\n",
      "50\t49\tTrue\n",
      "50\tTrue\n"
     ]
    }
   ],
   "source": [
    "from selenium import webdriver\n",
    "\n",
    "driver = webdriver.Chrome('chromedriver')\n",
    "driver.get('http://zzzscore.com/1to50')\n",
    "driver.implicitly_wait(300) \n",
    "\n",
    "# 프로그램 전체에서 유효한 전역변수 설정\n",
    "# 현재 찾아야될 숫자\n",
    "num = 1\n",
    "\n",
    "def clickBtn():\n",
    "    global num # 전역변수를 사용하겠다고 선언(global)\n",
    "    btns = driver.find_elements_by_xpath('//*[@id=\"grid\"]/div[*]')\n",
    "    \n",
    "    for btn in btns:\n",
    "        print(btn.text, end='\\t')\n",
    "        if btn.text == str(num):\n",
    "            btn.click()\n",
    "            print(True)\n",
    "            num += 1\n",
    "            return\n",
    "        \n",
    "while num <= 50:\n",
    "    clickBtn()"
   ]
  },
  {
   "cell_type": "code",
   "execution_count": null,
   "id": "6866e024",
   "metadata": {},
   "outputs": [],
   "source": []
  }
 ],
 "metadata": {
  "kernelspec": {
   "display_name": "Python 3",
   "language": "python",
   "name": "python3"
  },
  "language_info": {
   "codemirror_mode": {
    "name": "ipython",
    "version": 3
   },
   "file_extension": ".py",
   "mimetype": "text/x-python",
   "name": "python",
   "nbconvert_exporter": "python",
   "pygments_lexer": "ipython3",
   "version": "3.8.9"
  },
  "toc": {
   "base_numbering": 1,
   "nav_menu": {},
   "number_sections": true,
   "sideBar": true,
   "skip_h1_title": false,
   "title_cell": "Table of Contents",
   "title_sidebar": "Contents",
   "toc_cell": false,
   "toc_position": {},
   "toc_section_display": true,
   "toc_window_display": false
  },
  "varInspector": {
   "cols": {
    "lenName": 16,
    "lenType": 16,
    "lenVar": 40
   },
   "kernels_config": {
    "python": {
     "delete_cmd_postfix": "",
     "delete_cmd_prefix": "del ",
     "library": "var_list.py",
     "varRefreshCmd": "print(var_dic_list())"
    },
    "r": {
     "delete_cmd_postfix": ") ",
     "delete_cmd_prefix": "rm(",
     "library": "var_list.r",
     "varRefreshCmd": "cat(var_dic_list()) "
    }
   },
   "types_to_exclude": [
    "module",
    "function",
    "builtin_function_or_method",
    "instance",
    "_Feature"
   ],
   "window_display": false
  }
 },
 "nbformat": 4,
 "nbformat_minor": 5
}
