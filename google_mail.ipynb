{
 "cells": [
  {
   "cell_type": "markdown",
   "id": "431a771b",
   "metadata": {},
   "source": [
    "## 구글 메일 보내기\n",
    "* 구글 메일 서버를 이용하려면 서버명과 포트 및 보안방식을 알아야 한다.(https://support.google.com/mail/answer/7126229?hl=ko)\n",
    "\n",
    "\n",
    "\n",
    "* 다음의 정보를 활용\n",
    "* 서버명 : smtp.gmail.com\n",
    "* 인증 필요: 예\n",
    "* TLS/STARTTLS용 포트: 587"
   ]
  },
  {
   "cell_type": "markdown",
   "id": "b653489e",
   "metadata": {},
   "source": [
    "## 메일 보내기\n",
    "* 메일을 보내려면 SMTP과 MIME를 이용해야 한다.\n",
    "\n",
    "\n",
    "* 단순히 영어 내용만 있는 메일을 전송할 때는 SMTP만 이용, 다국어지원, 파일 첨부등의 기능이 현재는 당연하게 사용되므로 MIME로 전송할 메일을 만들고 SMTP를 통해 전송해야 한다."
   ]
  },
  {
   "cell_type": "code",
   "execution_count": 10,
   "id": "5a7dab31",
   "metadata": {
    "ExecuteTime": {
     "end_time": "2021-06-25T02:27:42.216795Z",
     "start_time": "2021-06-25T02:27:42.202833Z"
    }
   },
   "outputs": [],
   "source": [
    "import smtplib\n",
    "from email.mime.text import MIMEText"
   ]
  },
  {
   "cell_type": "code",
   "execution_count": 11,
   "id": "550de0a1",
   "metadata": {
    "ExecuteTime": {
     "end_time": "2021-06-25T02:27:42.638660Z",
     "start_time": "2021-06-25T02:27:42.625404Z"
    }
   },
   "outputs": [],
   "source": [
    "sendEmail = \"jangbigom91@gmail.com\" # 구글 이메일\n",
    "recvEmail = \"alpino@nate.com\" # 받는 이메일\n",
    "password = \"chlwjdgks1!\" # 구글 비밀번호"
   ]
  },
  {
   "cell_type": "code",
   "execution_count": 12,
   "id": "bafb3aa6",
   "metadata": {
    "ExecuteTime": {
     "end_time": "2021-06-25T02:27:44.674450Z",
     "start_time": "2021-06-25T02:27:44.658516Z"
    }
   },
   "outputs": [],
   "source": [
    "smtpName = \"smtp.gmail.com\" # smtp 서버 주소\n",
    "smtpPort = 587 # stmp 포트 번호"
   ]
  },
  {
   "cell_type": "code",
   "execution_count": 13,
   "id": "440fc363",
   "metadata": {
    "ExecuteTime": {
     "end_time": "2021-06-25T02:27:45.558789Z",
     "start_time": "2021-06-25T02:27:45.543164Z"
    }
   },
   "outputs": [
    {
     "name": "stdout",
     "output_type": "stream",
     "text": [
      "Content-Type: text/plain; charset=\"utf-8\"\n",
      "MIME-Version: 1.0\n",
      "Content-Transfer-Encoding: base64\n",
      "Subject: =?utf-8?b?6rWs6riAIOuplOydvCDrs7TrgrTquLAg7YWM7Iqk7Yq4?=\n",
      "From: jangbigom91@gmail.com\n",
      "To: alpino@nate.com\n",
      "\n",
      "7YGs66Gk66eBIOuMgOqwgCDqsJPsp4TquLA=\n",
      "\n"
     ]
    }
   ],
   "source": [
    "text = \"크롤링 대가 갓진기\" # 메일 내용\n",
    "msg = MIMEText(text)\n",
    "\n",
    "msg['Subject'] = '구글 메일 보내기 테스트' # 메일 제목\n",
    "msg['From'] = sendEmail\n",
    "msg['To'] = recvEmail\n",
    "\n",
    "print(msg.as_string())"
   ]
  },
  {
   "cell_type": "code",
   "execution_count": 14,
   "id": "24f1695a",
   "metadata": {
    "ExecuteTime": {
     "end_time": "2021-06-25T02:27:53.066695Z",
     "start_time": "2021-06-25T02:27:48.818386Z"
    }
   },
   "outputs": [],
   "source": [
    "s = smtplib.SMTP(smtpName, smtpPort) # 메일 서버 연결\n",
    "\n",
    "s.starttls() # TLS 보안처리\n",
    "s.login(sendEmail, password) # 로그인\n",
    "s.sendmail(sendEmail, recvEmail, msg.as_string()) # 메일 전송, 문자열로 변환해야 한다.\n",
    "\n",
    "s.close() # smtp 서버 연결을 종료"
   ]
  },
  {
   "cell_type": "markdown",
   "id": "6653198b",
   "metadata": {},
   "source": [
    "## 구글 메일 파일 첨부\n",
    "* 파일 첨부하면 전송해야 될 데이터(MIME타입 데이터) 개수가 2개 이상이 된다.\n",
    "\n",
    "\n",
    "* 여러 개의 MIME 데이터를 하나의 MIME에 담아서 보내보자\n",
    "\n",
    "\n",
    "* 파일 첨부 MIME의 경우 파일에 대한 정보를 header에 추가해줘야 한다. 또한 파일은 바이너리(binary) 모드로 읽어와서 MIMEApplication 함수의 입력인자로 넣어 MIME 데이터를 생성한다.\n",
    "\n",
    "\n",
    "* 여러 개의 MIME데이터를 담을 택배에 해당하는 MIME 데이터는 MIMEMultipart를 통해 만들 수 있습니다."
   ]
  },
  {
   "cell_type": "code",
   "execution_count": 15,
   "id": "b297ed89",
   "metadata": {
    "ExecuteTime": {
     "end_time": "2021-06-25T02:32:23.083488Z",
     "start_time": "2021-06-25T02:32:23.054565Z"
    }
   },
   "outputs": [],
   "source": [
    "import smtplib # 메일을 보내기 위한 라이브러리 모듈\n",
    "from email.mime.multipart import MIMEMultipart\n",
    "from email.mime.text import MIMEText\n",
    "from email.mime.application import MIMEApplication"
   ]
  },
  {
   "cell_type": "code",
   "execution_count": 16,
   "id": "1705530a",
   "metadata": {
    "ExecuteTime": {
     "end_time": "2021-06-25T02:33:22.512685Z",
     "start_time": "2021-06-25T02:33:22.506674Z"
    }
   },
   "outputs": [],
   "source": [
    "sendEmail = \"jangbigom91@gmail.com\"\n",
    "recvEmail = \"alpino@nate.com\"\n",
    "password = \"chlwjdgks1!\"\n",
    "\n",
    "smtpName = \"smtp.gmail.com\"\n",
    "smtpPort = 587"
   ]
  },
  {
   "cell_type": "code",
   "execution_count": 19,
   "id": "0ba0fe81",
   "metadata": {
    "ExecuteTime": {
     "end_time": "2021-06-25T02:39:52.385867Z",
     "start_time": "2021-06-25T02:39:48.227456Z"
    }
   },
   "outputs": [],
   "source": [
    "# 여러 MIME을 넣기 위한 MIMEMultipart 객체 생성\n",
    "msg = MIMEMultipart()\n",
    "\n",
    "msg['Subject'] = \"구글 메일 파일 첨부 테스트\"\n",
    "msg['From'] = sendEmail\n",
    "msg['To'] = recvEmail\n",
    "\n",
    "# 본문 추가\n",
    "text = \"크롤링의 대가 진기명기\"\n",
    "contentPart = MIMEText(text)\n",
    "msg.attach(contentPart)\n",
    "\n",
    "# 파일 추가\n",
    "etcFileName = 'test.txt'\n",
    "\n",
    "with open(etcFileName, 'rb') as etcFD:\n",
    "    etcPart = MIMEApplication(etcFD.read())\n",
    "    \n",
    "    # 첨부파일의 정보를 헤더로 추가\n",
    "    etcPart.add_header('Content-Disposition', 'attachment', filename=etcFileName)\n",
    "    \n",
    "    msg.attach(etcPart)\n",
    "    \n",
    "\n",
    "s = smtplib.SMTP(smtpName, smtpPort)\n",
    "s.starttls()\n",
    "s.login(sendEmail, password)\n",
    "s.sendmail(sendEmail, recvEmail, msg.as_string())\n",
    "\n",
    "s.close()"
   ]
  },
  {
   "cell_type": "code",
   "execution_count": null,
   "id": "0cdc2046",
   "metadata": {},
   "outputs": [],
   "source": []
  }
 ],
 "metadata": {
  "kernelspec": {
   "display_name": "Python 3",
   "language": "python",
   "name": "python3"
  },
  "language_info": {
   "codemirror_mode": {
    "name": "ipython",
    "version": 3
   },
   "file_extension": ".py",
   "mimetype": "text/x-python",
   "name": "python",
   "nbconvert_exporter": "python",
   "pygments_lexer": "ipython3",
   "version": "3.8.9"
  },
  "toc": {
   "base_numbering": 1,
   "nav_menu": {},
   "number_sections": true,
   "sideBar": true,
   "skip_h1_title": false,
   "title_cell": "Table of Contents",
   "title_sidebar": "Contents",
   "toc_cell": false,
   "toc_position": {},
   "toc_section_display": true,
   "toc_window_display": false
  },
  "varInspector": {
   "cols": {
    "lenName": 16,
    "lenType": 16,
    "lenVar": 40
   },
   "kernels_config": {
    "python": {
     "delete_cmd_postfix": "",
     "delete_cmd_prefix": "del ",
     "library": "var_list.py",
     "varRefreshCmd": "print(var_dic_list())"
    },
    "r": {
     "delete_cmd_postfix": ") ",
     "delete_cmd_prefix": "rm(",
     "library": "var_list.r",
     "varRefreshCmd": "cat(var_dic_list()) "
    }
   },
   "types_to_exclude": [
    "module",
    "function",
    "builtin_function_or_method",
    "instance",
    "_Feature"
   ],
   "window_display": false
  }
 },
 "nbformat": 4,
 "nbformat_minor": 5
}
